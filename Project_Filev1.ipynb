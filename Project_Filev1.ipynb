{
 "cells": [
  {
   "cell_type": "code",
   "execution_count": 1,
   "id": "a8d2b80c",
   "metadata": {},
   "outputs": [
    {
     "data": {
      "text/plain": [
       "'my first bit of code'"
      ]
     },
     "execution_count": 1,
     "metadata": {},
     "output_type": "execute_result"
    }
   ],
   "source": [
    "\"my first bit of code\""
   ]
  },
  {
   "cell_type": "code",
   "execution_count": 2,
   "id": "4927acbb",
   "metadata": {},
   "outputs": [
    {
     "data": {
      "text/plain": [
       "'another line of code'"
      ]
     },
     "execution_count": 2,
     "metadata": {},
     "output_type": "execute_result"
    }
   ],
   "source": [
    "\"another line of code\""
   ]
  },
  {
   "cell_type": "code",
   "execution_count": null,
   "id": "2dabe595",
   "metadata": {},
   "outputs": [],
   "source": []
  }
 ],
 "metadata": {
  "kernelspec": {
   "display_name": "Python 3",
   "language": "python",
   "name": "python3"
  },
  "language_info": {
   "codemirror_mode": {
    "name": "ipython",
    "version": 3
   },
   "file_extension": ".py",
   "mimetype": "text/x-python",
   "name": "python",
   "nbconvert_exporter": "python",
   "pygments_lexer": "ipython3",
   "version": "3.8.8"
  }
 },
 "nbformat": 4,
 "nbformat_minor": 5
}
